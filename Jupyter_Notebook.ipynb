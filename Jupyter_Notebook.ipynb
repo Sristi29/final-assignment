{
 "cells": [
  {
   "cell_type": "markdown",
   "id": "b8eb92dd-814b-47da-81cb-ca0e7087e5fe",
   "metadata": {},
   "source": [
    "# Data Science Tools and Ecosystem\n"
   ]
  },
  {
   "cell_type": "markdown",
   "id": "65acb3aa-ccc8-4b35-8e82-a53bcd223334",
   "metadata": {},
   "source": [
    "In this notebook, we summarize some of the essential tools, languages, and libraries used in the field of Data Science.\n"
   ]
  },
  {
   "cell_type": "markdown",
   "id": "e6accb4d-99bb-4aba-8ea2-745b2015ada3",
   "metadata": {},
   "source": [
    "## Some of the popular languages used in Data Science are:\n",
    "\n",
    "1. Python  \n",
    "2. R  \n",
    "3. SQL  \n",
    "4. Java  \n",
    "5. Julia\n"
   ]
  },
  {
   "cell_type": "markdown",
   "id": "e1b1b122-7322-4b60-88cd-b07eb90e5396",
   "metadata": {},
   "source": [
    "## Some of the commonly used libraries used by Data Scientists include:\n",
    "\n",
    "1. Pandas  \n",
    "2. NumPy  \n",
    "3. Matplotlib  \n",
    "4. Scikit-learn  \n",
    "5. TensorFlow\n"
   ]
  },
  {
   "cell_type": "markdown",
   "id": "b4a0d8fd-9ec9-43b9-82f0-c4411fe29f06",
   "metadata": {},
   "source": [
    "## Data Science Tools\n",
    "\n",
    "| Tools             |\n",
    "|------------------|\n",
    "| Jupyter Notebook |\n",
    "| RStudio          |\n",
    "| Apache Zeppelin  |\n"
   ]
  },
  {
   "cell_type": "markdown",
   "id": "fd46ccd5-cc5f-44a7-9874-e58c4a194e59",
   "metadata": {},
   "source": [
    "### Examples of evaluating arithmetic expressions in Python.\n"
   ]
  },
  {
   "cell_type": "code",
   "execution_count": 1,
   "id": "a5310c9a-16a6-44c4-b7c2-16238469125b",
   "metadata": {},
   "outputs": [
    {
     "data": {
      "text/plain": [
       "17"
      ]
     },
     "execution_count": 1,
     "metadata": {},
     "output_type": "execute_result"
    }
   ],
   "source": [
    "# Multiply and add\n",
    "(3 * 4) + 5\n"
   ]
  },
  {
   "cell_type": "code",
   "execution_count": 2,
   "id": "a29904ab-2cad-46a9-bbbe-09a8049a488b",
   "metadata": {},
   "outputs": [
    {
     "data": {
      "text/plain": [
       "3.3333333333333335"
      ]
     },
     "execution_count": 2,
     "metadata": {},
     "output_type": "execute_result"
    }
   ],
   "source": [
    "# Convert 200 minutes to hours\n",
    "200 / 60\n",
    "\n"
   ]
  },
  {
   "cell_type": "markdown",
   "id": "d850acbf-c047-40bc-a174-5fc773e008da",
   "metadata": {},
   "source": [
    "## Objectives\n",
    "\n",
    "- List popular languages for Data Science  \n",
    "- List commonly used libraries  \n",
    "- Show Data Science Tools in a table  \n",
    "- Perform arithmetic operations  \n",
    "- Convert minutes to hours using Python\n"
   ]
  },
  {
   "cell_type": "markdown",
   "id": "52614422-c27e-48aa-a1c0-e34e8e9af03b",
   "metadata": {},
   "source": [
    "## Author\n",
    "Sristi Srivastava\n"
   ]
  },
  {
   "cell_type": "code",
   "execution_count": null,
   "id": "5e11482b-0135-4263-b248-edc9d548ea8a",
   "metadata": {},
   "outputs": [],
   "source": []
  }
 ],
 "metadata": {
  "kernelspec": {
   "display_name": "Python 3 (ipykernel)",
   "language": "python",
   "name": "python3"
  },
  "language_info": {
   "codemirror_mode": {
    "name": "ipython",
    "version": 3
   },
   "file_extension": ".py",
   "mimetype": "text/x-python",
   "name": "python",
   "nbconvert_exporter": "python",
   "pygments_lexer": "ipython3",
   "version": "3.12.8"
  }
 },
 "nbformat": 4,
 "nbformat_minor": 5
}
